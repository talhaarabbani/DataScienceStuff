{
 "cells": [
  {
   "cell_type": "code",
   "execution_count": null,
   "metadata": {},
   "outputs": [],
   "source": [
    "import os\n",
    "\n",
    "os.chdir('/path/to/files/')\n",
    "\n",
    "# Am I in the correct directory?\n",
    "# print(os.getcwd())\n",
    "\n",
    "# print(dir(os))\n",
    "\n",
    "# Print all the current file names\n",
    "for f in os.listdir():\n",
    "    # If .DS_Store file is created, ignore it\n",
    "    if f == '.DS_Store':\n",
    "        continue\n",
    "\n",
    "    file_name, file_ext = os.path.splitext(f)\n",
    "    # print(file_name)\n",
    "\n",
    "    # One way to do this\n",
    "    f_title, f_course, f_number = file_name.split('-')\n",
    "\n",
    "    # print('{}-{}-{}{}'.format(f_number, f_course, f_title, file_ext))\n",
    "\n",
    "    # Need to remove whitespace\n",
    "    f_title = f_title.strip()\n",
    "    f_course = f_course.strip()\n",
    "    # f_number = f_number.strip()\n",
    "\n",
    "    # Want to remove the number sign?\n",
    "    # f_number = f_number.strip()[1:]\n",
    "\n",
    "    # One thing I noticed about this output is that if it was sorted by filename\n",
    "    # then the 1 and 10 would be next to each other. How do we fix this? One way we can fix this is to pad\n",
    "    # the numbers. So instead of 1, we'll make it 01. If we had hundreds of files then this would maybe need to be 001.\n",
    "    # We can do this in Python with zfill\n",
    "    f_number = f_number.strip()[1:].zfill(2)\n",
    "\n",
    "    # print('{}-{}-{}{}'.format(f_number, f_course, f_title, file_ext))\n",
    "\n",
    "    # You have the power to reformat in any way you see fit\n",
    "    print('{}-{}{}'.format(f_number, f_title.strip(), file_ext.strip()))\n",
    "\n",
    "    new_name = '{}-{}{}'.format(file_num, file_title, file_ext)\n",
    "\n",
    "    os.rename(fn, new_name)"
   ]
  }
 ],
 "metadata": {
  "kernelspec": {
   "display_name": "Python 3",
   "language": "python",
   "name": "python3"
  },
  "language_info": {
   "codemirror_mode": {
    "name": "ipython",
    "version": 3
   },
   "file_extension": ".py",
   "mimetype": "text/x-python",
   "name": "python",
   "nbconvert_exporter": "python",
   "pygments_lexer": "ipython3",
   "version": "3.6.3"
  }
 },
 "nbformat": 4,
 "nbformat_minor": 2
}
