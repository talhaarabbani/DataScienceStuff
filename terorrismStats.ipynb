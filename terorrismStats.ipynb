{
 "cells": [
  {
   "cell_type": "code",
   "execution_count": 36,
   "metadata": {},
   "outputs": [
    {
     "name": "stdout",
     "output_type": "stream",
     "text": [
      "Requirement already satisfied: nltk in c:\\users\\tmrnew\\appdata\\local\\programs\\python\\python36-32\\lib\\site-packages (3.4)\n",
      "Requirement already satisfied: singledispatch in c:\\users\\tmrnew\\appdata\\local\\programs\\python\\python36-32\\lib\\site-packages (from nltk) (3.4.0.3)\n",
      "Requirement already satisfied: six in c:\\users\\tmrnew\\appdata\\local\\programs\\python\\python36-32\\lib\\site-packages (from nltk) (1.11.0)\n"
     ]
    },
    {
     "name": "stderr",
     "output_type": "stream",
     "text": [
      "You are using pip version 19.0.1, however version 19.0.2 is available.\n",
      "You should consider upgrading via the 'python -m pip install --upgrade pip' command.\n",
      "[nltk_data] Downloading package punkt to\n",
      "[nltk_data]     C:\\Users\\TMRNEW\\AppData\\Roaming\\nltk_data...\n",
      "[nltk_data]   Package punkt is already up-to-date!\n",
      "[nltk_data] Downloading package averaged_perceptron_tagger to\n",
      "[nltk_data]     C:\\Users\\TMRNEW\\AppData\\Roaming\\nltk_data...\n",
      "[nltk_data]   Unzipping taggers\\averaged_perceptron_tagger.zip.\n"
     ]
    },
    {
     "data": {
      "text/plain": [
       "True"
      ]
     },
     "execution_count": 36,
     "metadata": {},
     "output_type": "execute_result"
    }
   ],
   "source": [
    "import matplotlib.pyplot as plt\n",
    "import nltk\n",
    "import numpy as np\n",
    "import operator\n",
    "import pandas as pd\n",
    "import seaborn as sns\n",
    "\n",
    "from collections import Counter\n",
    "from nltk.tokenize import PunktSentenceTokenizer\n",
    "from nltk.chunk import RegexpParser\n",
    "!pip install nltk\n",
    "nltk.download('punkt')\n",
    "nltk.download('averaged_perceptron_tagger')"
   ]
  },
  {
   "cell_type": "code",
   "execution_count": 5,
   "metadata": {},
   "outputs": [],
   "source": [
    "\n",
    "\n",
    "\n",
    "df = pd.read_csv(\"/Users/TMRNEW/Documents/All_DS_Python_stuff/globalterrorismdb_0718dist.csv\", encoding='ISO-8859-1', low_memory=False, error_bad_lines=False)"
   ]
  },
  {
   "cell_type": "code",
   "execution_count": 6,
   "metadata": {},
   "outputs": [
    {
     "data": {
      "text/html": [
       "<div>\n",
       "<style scoped>\n",
       "    .dataframe tbody tr th:only-of-type {\n",
       "        vertical-align: middle;\n",
       "    }\n",
       "\n",
       "    .dataframe tbody tr th {\n",
       "        vertical-align: top;\n",
       "    }\n",
       "\n",
       "    .dataframe thead th {\n",
       "        text-align: right;\n",
       "    }\n",
       "</style>\n",
       "<table border=\"1\" class=\"dataframe\">\n",
       "  <thead>\n",
       "    <tr style=\"text-align: right;\">\n",
       "      <th></th>\n",
       "      <th>iyear</th>\n",
       "      <th>imonth</th>\n",
       "      <th>iday</th>\n",
       "      <th>country_txt</th>\n",
       "      <th>region_txt</th>\n",
       "      <th>provstate</th>\n",
       "      <th>city</th>\n",
       "      <th>specificity</th>\n",
       "      <th>vicinity</th>\n",
       "      <th>location</th>\n",
       "      <th>...</th>\n",
       "      <th>nkillter</th>\n",
       "      <th>nwound</th>\n",
       "      <th>nwoundus</th>\n",
       "      <th>nwoundte</th>\n",
       "      <th>property</th>\n",
       "      <th>propextent</th>\n",
       "      <th>propextent_txt</th>\n",
       "      <th>propvalue</th>\n",
       "      <th>propcomment</th>\n",
       "      <th>related</th>\n",
       "    </tr>\n",
       "  </thead>\n",
       "  <tbody>\n",
       "    <tr>\n",
       "      <th>0</th>\n",
       "      <td>2000</td>\n",
       "      <td>1</td>\n",
       "      <td>1</td>\n",
       "      <td>Namibia</td>\n",
       "      <td>Sub-Saharan Africa</td>\n",
       "      <td>Kavango</td>\n",
       "      <td>Muitjiku</td>\n",
       "      <td>2.0</td>\n",
       "      <td>0</td>\n",
       "      <td>NaN</td>\n",
       "      <td>...</td>\n",
       "      <td>0.0</td>\n",
       "      <td>7.0</td>\n",
       "      <td>0.0</td>\n",
       "      <td>NaN</td>\n",
       "      <td>-9</td>\n",
       "      <td>NaN</td>\n",
       "      <td>NaN</td>\n",
       "      <td>NaN</td>\n",
       "      <td>NaN</td>\n",
       "      <td>200001010001, 200001010002</td>\n",
       "    </tr>\n",
       "    <tr>\n",
       "      <th>1</th>\n",
       "      <td>2000</td>\n",
       "      <td>1</td>\n",
       "      <td>1</td>\n",
       "      <td>Namibia</td>\n",
       "      <td>Sub-Saharan Africa</td>\n",
       "      <td>Kavango</td>\n",
       "      <td>Muitjiku</td>\n",
       "      <td>2.0</td>\n",
       "      <td>0</td>\n",
       "      <td>NaN</td>\n",
       "      <td>...</td>\n",
       "      <td>0.0</td>\n",
       "      <td>7.0</td>\n",
       "      <td>0.0</td>\n",
       "      <td>NaN</td>\n",
       "      <td>-9</td>\n",
       "      <td>NaN</td>\n",
       "      <td>NaN</td>\n",
       "      <td>NaN</td>\n",
       "      <td>NaN</td>\n",
       "      <td>200001010002, 200001010001</td>\n",
       "    </tr>\n",
       "    <tr>\n",
       "      <th>2</th>\n",
       "      <td>2000</td>\n",
       "      <td>1</td>\n",
       "      <td>1</td>\n",
       "      <td>India</td>\n",
       "      <td>South Asia</td>\n",
       "      <td>Jammu and Kashmir</td>\n",
       "      <td>Udhampur</td>\n",
       "      <td>1.0</td>\n",
       "      <td>0</td>\n",
       "      <td>NaN</td>\n",
       "      <td>...</td>\n",
       "      <td>NaN</td>\n",
       "      <td>2.0</td>\n",
       "      <td>0.0</td>\n",
       "      <td>NaN</td>\n",
       "      <td>-9</td>\n",
       "      <td>NaN</td>\n",
       "      <td>NaN</td>\n",
       "      <td>NaN</td>\n",
       "      <td>NaN</td>\n",
       "      <td>NaN</td>\n",
       "    </tr>\n",
       "    <tr>\n",
       "      <th>3</th>\n",
       "      <td>2000</td>\n",
       "      <td>1</td>\n",
       "      <td>1</td>\n",
       "      <td>Kosovo</td>\n",
       "      <td>Eastern Europe</td>\n",
       "      <td>Kosovo (Province)</td>\n",
       "      <td>Peje</td>\n",
       "      <td>1.0</td>\n",
       "      <td>0</td>\n",
       "      <td>NaN</td>\n",
       "      <td>...</td>\n",
       "      <td>0.0</td>\n",
       "      <td>1.0</td>\n",
       "      <td>0.0</td>\n",
       "      <td>0.0</td>\n",
       "      <td>-9</td>\n",
       "      <td>NaN</td>\n",
       "      <td>NaN</td>\n",
       "      <td>NaN</td>\n",
       "      <td>NaN</td>\n",
       "      <td>NaN</td>\n",
       "    </tr>\n",
       "    <tr>\n",
       "      <th>4</th>\n",
       "      <td>2000</td>\n",
       "      <td>1</td>\n",
       "      <td>1</td>\n",
       "      <td>Somalia</td>\n",
       "      <td>Sub-Saharan Africa</td>\n",
       "      <td>Banaadir</td>\n",
       "      <td>Mogadishu</td>\n",
       "      <td>1.0</td>\n",
       "      <td>1</td>\n",
       "      <td>The incident occurred northeast of Mogadishu.</td>\n",
       "      <td>...</td>\n",
       "      <td>0.0</td>\n",
       "      <td>10.0</td>\n",
       "      <td>0.0</td>\n",
       "      <td>0.0</td>\n",
       "      <td>0</td>\n",
       "      <td>NaN</td>\n",
       "      <td>NaN</td>\n",
       "      <td>NaN</td>\n",
       "      <td>NaN</td>\n",
       "      <td>NaN</td>\n",
       "    </tr>\n",
       "  </tbody>\n",
       "</table>\n",
       "<p>5 rows × 53 columns</p>\n",
       "</div>"
      ],
      "text/plain": [
       "   iyear  imonth  iday country_txt          region_txt          provstate  \\\n",
       "0   2000       1     1     Namibia  Sub-Saharan Africa            Kavango   \n",
       "1   2000       1     1     Namibia  Sub-Saharan Africa            Kavango   \n",
       "2   2000       1     1       India          South Asia  Jammu and Kashmir   \n",
       "3   2000       1     1      Kosovo      Eastern Europe  Kosovo (Province)   \n",
       "4   2000       1     1     Somalia  Sub-Saharan Africa           Banaadir   \n",
       "\n",
       "        city  specificity  vicinity  \\\n",
       "0   Muitjiku          2.0         0   \n",
       "1   Muitjiku          2.0         0   \n",
       "2   Udhampur          1.0         0   \n",
       "3       Peje          1.0         0   \n",
       "4  Mogadishu          1.0         1   \n",
       "\n",
       "                                        location  ... nkillter  nwound  \\\n",
       "0                                            NaN  ...      0.0     7.0   \n",
       "1                                            NaN  ...      0.0     7.0   \n",
       "2                                            NaN  ...      NaN     2.0   \n",
       "3                                            NaN  ...      0.0     1.0   \n",
       "4  The incident occurred northeast of Mogadishu.  ...      0.0    10.0   \n",
       "\n",
       "   nwoundus  nwoundte  property propextent  propextent_txt  propvalue  \\\n",
       "0       0.0       NaN        -9        NaN             NaN        NaN   \n",
       "1       0.0       NaN        -9        NaN             NaN        NaN   \n",
       "2       0.0       NaN        -9        NaN             NaN        NaN   \n",
       "3       0.0       0.0        -9        NaN             NaN        NaN   \n",
       "4       0.0       0.0         0        NaN             NaN        NaN   \n",
       "\n",
       "   propcomment                     related  \n",
       "0          NaN  200001010001, 200001010002  \n",
       "1          NaN  200001010002, 200001010001  \n",
       "2          NaN                         NaN  \n",
       "3          NaN                         NaN  \n",
       "4          NaN                         NaN  \n",
       "\n",
       "[5 rows x 53 columns]"
      ]
     },
     "execution_count": 6,
     "metadata": {},
     "output_type": "execute_result"
    }
   ],
   "source": [
    "df.head()\n"
   ]
  },
  {
   "cell_type": "code",
   "execution_count": 7,
   "metadata": {},
   "outputs": [
    {
     "data": {
      "text/plain": [
       "Iraq                                24475\n",
       "Afghanistan                         12607\n",
       "Pakistan                            12551\n",
       "India                                8918\n",
       "Philippines                          4920\n",
       "Somalia                              3973\n",
       "Nigeria                              3826\n",
       "Thailand                             3623\n",
       "Yemen                                3240\n",
       "Libya                                2235\n",
       "Colombia                             2104\n",
       "Syria                                2055\n",
       "Egypt                                2004\n",
       "Russia                               1866\n",
       "Turkey                               1803\n",
       "Ukraine                              1683\n",
       "Algeria                              1350\n",
       "West Bank and Gaza Strip             1287\n",
       "Israel                               1173\n",
       "Nepal                                1172\n",
       "Bangladesh                           1079\n",
       "United Kingdom                       1061\n",
       "Sudan                                 891\n",
       "Sri Lanka                             858\n",
       "Democratic Republic of the Congo      767\n",
       "Lebanon                               609\n",
       "Kenya                                 605\n",
       "Indonesia                             549\n",
       "Greece                                548\n",
       "Mali                                  533\n",
       "Name: country_txt, dtype: int64"
      ]
     },
     "execution_count": 7,
     "metadata": {},
     "output_type": "execute_result"
    }
   ],
   "source": [
    "freq_dist = df['country_txt'].value_counts()\n",
    "freq_dist[freq_dist > 500] #number of terror attacks since the beginning of year 2000"
   ]
  },
  {
   "cell_type": "code",
   "execution_count": 8,
   "metadata": {},
   "outputs": [
    {
     "data": {
      "text/plain": [
       "Unknown                                        18423\n",
       "Islamic State of Iraq and the Levant (ISIL)     4797\n",
       "Al-Qaida in Iraq                                 632\n",
       "Islamic State of Iraq (ISI)                      145\n",
       "Asa'ib Ahl al-Haqq                                67\n",
       "Gunmen                                            57\n",
       "Tawhid and Jihad                                  49\n",
       "Al-Naqshabandiya Army                             35\n",
       "Muslim extremists                                 32\n",
       "Ansar al-Islam                                    28\n",
       "Name: gname, dtype: int64"
      ]
     },
     "execution_count": 8,
     "metadata": {},
     "output_type": "execute_result"
    }
   ],
   "source": [
    "iraq_data = df[df['country_txt'] == 'Iraq']\n",
    "iraq_data['gname'].value_counts()[:10]"
   ]
  },
  {
   "cell_type": "code",
   "execution_count": 9,
   "metadata": {},
   "outputs": [
    {
     "data": {
      "text/plain": [
       "Index(['iyear', 'imonth', 'iday', 'country_txt', 'region_txt', 'provstate',\n",
       "       'city', 'specificity', 'vicinity', 'location', 'summary', 'crit1',\n",
       "       'crit2', 'crit3', 'alternative', 'alternative_txt', 'multiple',\n",
       "       'success', 'suicide', 'attacktype1', 'attacktype1_txt', 'attacktype2',\n",
       "       'attacktype2_txt', 'targtype1', 'targtype1_txt', 'targsubtype1',\n",
       "       'targsubtype1_txt', 'corp1', 'target1', 'natlty1', 'natlty1_txt',\n",
       "       'gname', 'gsubname', 'gname2', 'gsubname2', 'gname3', 'gsubname3',\n",
       "       'motive', 'compclaim', 'weaptype1_txt', 'weapdetail', 'nkill',\n",
       "       'nkillus', 'nkillter', 'nwound', 'nwoundus', 'nwoundte', 'property',\n",
       "       'propextent', 'propextent_txt', 'propvalue', 'propcomment', 'related'],\n",
       "      dtype='object')"
      ]
     },
     "execution_count": 9,
     "metadata": {},
     "output_type": "execute_result"
    }
   ],
   "source": [
    "df.columns"
   ]
  },
  {
   "cell_type": "code",
   "execution_count": 10,
   "metadata": {},
   "outputs": [],
   "source": [
    "isis_iraq_data = iraq_data[iraq_data['gname'] == 'Islamic State of Iraq and the Levant (ISIL)']"
   ]
  },
  {
   "cell_type": "code",
   "execution_count": 11,
   "metadata": {},
   "outputs": [
    {
     "data": {
      "text/plain": [
       "2016    1206\n",
       "2017    1154\n",
       "2014    1100\n",
       "2015     996\n",
       "2013     341\n",
       "Name: iyear, dtype: int64"
      ]
     },
     "execution_count": 11,
     "metadata": {},
     "output_type": "execute_result"
    }
   ],
   "source": [
    "data = isis_iraq_data['iyear'].value_counts()\n",
    "data"
   ]
  },
  {
   "cell_type": "code",
   "execution_count": 13,
   "metadata": {},
   "outputs": [
    {
     "name": "stdout",
     "output_type": "stream",
     "text": [
      "Number of kills by ISIL in Iraq in  2013  =  1347.0\n",
      "Number of kills by ISIL in Iraq in  2014  =  8604.0\n",
      "Number of kills by ISIL in Iraq in  2015  =  5976.0\n",
      "Number of kills by ISIL in Iraq in  2016  =  9528.0\n",
      "Number of kills by ISIL in Iraq in  2017  =  5603.0\n"
     ]
    }
   ],
   "source": [
    "#how many people has ISIL killed from 2013-2017?\n",
    "for year in range(2013,2018):\n",
    "    num_kills = sum(isis_iraq_data['nkill'][isis_iraq_data['iyear'] == year].dropna())\n",
    "    print(\"Number of kills by ISIL in Iraq in \", year, \" = \", num_kills)"
   ]
  },
  {
   "cell_type": "code",
   "execution_count": 14,
   "metadata": {},
   "outputs": [
    {
     "data": {
      "text/plain": [
       "Bombing/Explosion                      3201\n",
       "Unknown                                 635\n",
       "Hostage Taking (Kidnapping)             463\n",
       "Armed Assault                           339\n",
       "Assassination                           100\n",
       "Facility/Infrastructure Attack           41\n",
       "Hostage Taking (Barricade Incident)      14\n",
       "Hijacking                                 4\n",
       "Name: attacktype1_txt, dtype: int64"
      ]
     },
     "execution_count": 14,
     "metadata": {},
     "output_type": "execute_result"
    }
   ],
   "source": [
    "isis_iraq_data['attacktype1_txt'].value_counts()"
   ]
  },
  {
   "cell_type": "code",
   "execution_count": 15,
   "metadata": {},
   "outputs": [
    {
     "data": {
      "text/html": [
       "<div>\n",
       "<style scoped>\n",
       "    .dataframe tbody tr th:only-of-type {\n",
       "        vertical-align: middle;\n",
       "    }\n",
       "\n",
       "    .dataframe tbody tr th {\n",
       "        vertical-align: top;\n",
       "    }\n",
       "\n",
       "    .dataframe thead th {\n",
       "        text-align: right;\n",
       "    }\n",
       "</style>\n",
       "<table border=\"1\" class=\"dataframe\">\n",
       "  <thead>\n",
       "    <tr style=\"text-align: right;\">\n",
       "      <th></th>\n",
       "      <th>success</th>\n",
       "      <th>nkill</th>\n",
       "      <th>provstate</th>\n",
       "    </tr>\n",
       "  </thead>\n",
       "  <tbody>\n",
       "    <tr>\n",
       "      <th>48962</th>\n",
       "      <td>1</td>\n",
       "      <td>5.0</td>\n",
       "      <td>Babil</td>\n",
       "    </tr>\n",
       "    <tr>\n",
       "      <th>52573</th>\n",
       "      <td>1</td>\n",
       "      <td>4.0</td>\n",
       "      <td>Al Anbar</td>\n",
       "    </tr>\n",
       "    <tr>\n",
       "      <th>54439</th>\n",
       "      <td>1</td>\n",
       "      <td>3.0</td>\n",
       "      <td>Kirkuk</td>\n",
       "    </tr>\n",
       "    <tr>\n",
       "      <th>55140</th>\n",
       "      <td>1</td>\n",
       "      <td>9.0</td>\n",
       "      <td>Saladin</td>\n",
       "    </tr>\n",
       "    <tr>\n",
       "      <th>56759</th>\n",
       "      <td>1</td>\n",
       "      <td>24.0</td>\n",
       "      <td>Baghdad</td>\n",
       "    </tr>\n",
       "    <tr>\n",
       "      <th>58448</th>\n",
       "      <td>1</td>\n",
       "      <td>9.0</td>\n",
       "      <td>Saladin</td>\n",
       "    </tr>\n",
       "    <tr>\n",
       "      <th>60790</th>\n",
       "      <td>1</td>\n",
       "      <td>9.0</td>\n",
       "      <td>Baghdad</td>\n",
       "    </tr>\n",
       "    <tr>\n",
       "      <th>63216</th>\n",
       "      <td>1</td>\n",
       "      <td>2.0</td>\n",
       "      <td>Al Anbar</td>\n",
       "    </tr>\n",
       "    <tr>\n",
       "      <th>72588</th>\n",
       "      <td>1</td>\n",
       "      <td>3.0</td>\n",
       "      <td>Diyala</td>\n",
       "    </tr>\n",
       "    <tr>\n",
       "      <th>73914</th>\n",
       "      <td>1</td>\n",
       "      <td>0.0</td>\n",
       "      <td>Kirkuk</td>\n",
       "    </tr>\n",
       "    <tr>\n",
       "      <th>87712</th>\n",
       "      <td>1</td>\n",
       "      <td>21.0</td>\n",
       "      <td>Baghdad</td>\n",
       "    </tr>\n",
       "    <tr>\n",
       "      <th>98512</th>\n",
       "      <td>1</td>\n",
       "      <td>18.0</td>\n",
       "      <td>Kirkuk</td>\n",
       "    </tr>\n",
       "    <tr>\n",
       "      <th>103386</th>\n",
       "      <td>1</td>\n",
       "      <td>230.0</td>\n",
       "      <td>Nineveh</td>\n",
       "    </tr>\n",
       "    <tr>\n",
       "      <th>105489</th>\n",
       "      <td>1</td>\n",
       "      <td>9.0</td>\n",
       "      <td>Nineveh</td>\n",
       "    </tr>\n",
       "  </tbody>\n",
       "</table>\n",
       "</div>"
      ],
      "text/plain": [
       "        success  nkill provstate\n",
       "48962         1    5.0     Babil\n",
       "52573         1    4.0  Al Anbar\n",
       "54439         1    3.0    Kirkuk\n",
       "55140         1    9.0   Saladin\n",
       "56759         1   24.0   Baghdad\n",
       "58448         1    9.0   Saladin\n",
       "60790         1    9.0   Baghdad\n",
       "63216         1    2.0  Al Anbar\n",
       "72588         1    3.0    Diyala\n",
       "73914         1    0.0    Kirkuk\n",
       "87712         1   21.0   Baghdad\n",
       "98512         1   18.0    Kirkuk\n",
       "103386        1  230.0   Nineveh\n",
       "105489        1    9.0   Nineveh"
      ]
     },
     "execution_count": 15,
     "metadata": {},
     "output_type": "execute_result"
    }
   ],
   "source": [
    "isis_iraq_data[['success' ,'nkill', 'provstate']][isis_iraq_data['attacktype1_txt'] == 'Hostage Taking (Barricade Incident)']"
   ]
  },
  {
   "cell_type": "code",
   "execution_count": 16,
   "metadata": {},
   "outputs": [
    {
     "name": "stderr",
     "output_type": "stream",
     "text": [
      "c:\\users\\tmrnew\\appdata\\local\\programs\\python\\python36-32\\lib\\site-packages\\scipy\\stats\\stats.py:1713: FutureWarning:\n",
      "\n",
      "Using a non-tuple sequence for multidimensional indexing is deprecated; use `arr[tuple(seq)]` instead of `arr[seq]`. In the future this will be interpreted as an array index, `arr[np.array(seq)]`, which will result either in an error or a different result.\n",
      "\n"
     ]
    },
    {
     "data": {
      "image/png": "[encoded data removed]",
      "text/plain": [
       "<Figure size 432x288 with 1 Axes>"
      ]
     },
     "metadata": {},
     "output_type": "display_data"
    }
   ],
   "source": [
    "barricade = isis_iraq_data['nkill'][isis_iraq_data['attacktype1_txt'] == 'Hostage Taking (Barricade Incident)']\n",
    "sns.distplot(barricade, label=\"Barricade\")\n",
    "\n",
    "plt.legend()\n",
    "plt.show()"
   ]
  },
  {
   "cell_type": "code",
   "execution_count": 17,
   "metadata": {},
   "outputs": [
    {
     "data": {
      "text/plain": [
       "Bombing/Explosion              75\n",
       "Unknown                        29\n",
       "Armed Assault                  22\n",
       "Hostage Taking (Kidnapping)    16\n",
       "Assassination                   9\n",
       "Name: attacktype1_txt, dtype: int64"
      ]
     },
     "execution_count": 17,
     "metadata": {},
     "output_type": "execute_result"
    }
   ],
   "source": [
    "isis_iraq_data['attacktype1_txt'][ (isis_iraq_data['targtype1_txt'] == 'Terrorists/Non-State Militia')].value_counts()"
   ]
  },
  {
   "cell_type": "code",
   "execution_count": 32,
   "metadata": {},
   "outputs": [],
   "source": [
    "def text_manipulation(text, regex):\n",
    "    words = nltk.word_tokenize(text.lower())\n",
    "    tagged = nltk.pos_tag(words)\n",
    "\n",
    "    chunkGram = regex\n",
    "    \n",
    "    chunkParser = RegexpParser(chunkGram)\n",
    "    chunked = chunkParser.parse(tagged)\n",
    "\n",
    "    candidate_keywords = []\n",
    "    for tree in chunked.subtrees():\n",
    "        if (tree.label() == 'PHRASE') and (len(tree.leaves()) >= 2):\n",
    "            candidate_keyword = ' '.join([x for x,y in tree.leaves()])\n",
    "            candidate_keywords.append(candidate_keyword)\n",
    "\n",
    "    return Counter(candidate_keywords)"
   ]
  },
  {
   "cell_type": "code",
   "execution_count": 33,
   "metadata": {},
   "outputs": [
    {
     "data": {
      "text/plain": [
       "\"06/09/2013: Assailants opened fire on a member of the Sahwa Council in Garma town, Al-Anbar governorate, Iraq. The Sahwa member was killed and two other people were injured in the attack. No group claimed responsibility for the incident; however, Islamic State of Iraq and the Levant (ISIL) was suspected of involvement in the attack. 08/06/2013: Assailants attacked a Sahwa Council checkpoint outside of Maqdadiyah city, Iraq. One attacker was killed in the ensuing clash. No group claimed responsibility for the incident; however, sources attributed the attack to Islamic State of Iraq and the Levant (ISIL). 08/22/2013: Assailants detonated an explosive device at the residence of Sheikh Ali Hussein Saleh in Al-Madaen city, Diyala governorate, Iraq. Saleh, a Sahwa Council leader, was killed in the attack along with two of his bodyguards. No group claimed responsibility for the incident; however, sources speculated that Islamic State of Iraq and the Levant (ISIL) was behind the attack. 12/30/2013: Assailants opened fire on a Sahwa Council checkpoint in Albu-Hashmah village, Saladin governorate, Iraq. At least four members were killed and two others were wounded in the assault. Islamic State of Iraq and the Levant (ISIL) claimed responsibility for the incident. 01/15/2014: More than 20 assailants attacked a Sahwa Council checkpoint in Abu Garmah area, Abu Sayda subdistrict, Diyala governorate, Iraq. There were no reported casualties in the incident. No group claimed responsibility; however, sources attributed the attack to Islamic State of Iraq and the Levant (ISIL). 03/20/2014: An explosive device detonated near the vehicle of Nasir al-Alawani in Ramadi city, Al Anbar governorate, Iraq. Al-Alawani, a Sahwa Council leader, was killed in the blast. The Islamic State of Iraq and the Levant (ISIL) claimed responsibility for the incident. 04/07/2014: An explosive device detonated at a Sahwa Council building in Daquq district, Kirkuk, Iraq. This was one of two similar attacks on Sahwa Council sites in the district on the same night. There were no reported casualties resulting from the blasts; however, the buildings were damaged. The Islamic State of Iraq and the Levant (ISIL) claimed responsibility for the incidents. 04/07/2014: An explosive device detonated at a Sahwa Council building in Daquq district, Kirkuk, Iraq. This was one of two similar attacks on Sahwa sites in the district on the same night. There were no reported casualties resulting from the blasts; however, the buildings were damaged. The Islamic State of Iraq and the Levant (ISIL) claimed responsibility for the incidents. 04/13/2014: Assailants stormed the residence of a local Sahwa Council leader in Sulayman Beg town, Saladin governorate, Iraq. Three of the leader's family members were killed, four were wounded, and two others were abducted in the attack. The outcome of the abduction is unknown. No group claimed responsibility for the incident; however, sources suspected that the Islamic State of Iraq and the Levant (ISIL) carried out the attack. 04/28/2014: Assailants shot and killed a Sahwa Council member in Albu Ajil town, Saladin governorate, Iraq. The Islamic State of Iraq and the Levant (ISIL) claimed responsibility for the attack. 05/11/2014: Assailants opened fire on a Sahwa Council checkpoint in Udhiem village near Baqubah city, Diyala governorate, Iraq. Seven Sahwa Council members were killed in the attack. No group claimed responsibility for the incident; however, sources attributed the attack to Islamic State of Iraq and the Levant (ISIL). 05/15/2014: Assailants stormed a Sahwa Council member's residence in Futuh village, Babil governorate, Iraq. The Sahwa member and four of his family members were killed in the attack. Islamic State of Iraq and the Levant (ISIL) claimed responsibility for the incident. 05/29/2014: Assailants attacked a Sahwa Council checkpoint in Al-Ali area, Diyala governorate, Iraq. Two Sahwa Council members were killed in the attack. Islamic State of Iraq and the Levant (ISIL) claimed responsibility for the incident. 06/03/2014: A suicide bomber detonated targeting Mohammed Khamis Abu Risha at a checkpoint in Ramadi city, Al Anbar governorate, Iraq. Risha, a Sahwa Council leader, and four guards were killed and seven security members were injured in the blast. Islamic State of Iraq and the Levant (ISIL) claimed responsibility for the incident. 06/25/2014: Assailants kidnapped a Sahwa Council leader and three Sahwa members from a security checkpoint in Hawijah district, Kirkuk, Iraq. The captives were executed later the same day. No group claimed responsibility for the incident; however, sources attributed the attack to Islamic State of Iraq and the Levant (ISIL). 07/31/2014: Assailants stormed the residence of a Sahwa Council member in Zab area, Kirkuk, Iraq. A family member of the Sahwa member was killed in the attack. No group claimed responsibility for the incident; however, sources attributed the attack to the Islamic State of Iraq and the Levant (ISIL). 08/02/2014: Assailants ambushed volunteer fighters in Hamreen area, Diyala governorate, Iraq. At least 17 volunteers were kidnapped and beheaded. The Islamic State of Iraq and the Levant (ISIL) claimed responsibility for the incident. 08/05/2014: Assailants opened fire on the Sahwa Council headquarters in Tarmiyah area, Saladin governorate, Iraq. At least three Sahwa members were killed and five members were injured in the attack. No group claimed responsibility for the incident; however, sources attributed the attack to the Islamic State of Iraq and the Levant (ISIL). 08/15/2014: Assailants attacked volunteers at a military barracks west of Samarra district, Saladin governorate, Iraq. Six volunteers were wounded in the attack. No group claimed responsibility for the incident; however, sources attributed the attack to the Islamic State of Iraq and the Levant (ISIL). 08/18/2014: Assailants executed a Sahwa Council leader and abducted six civilians in Albu Jawari village, Saladin governorate, Iraq. No group claimed responsibility for the incident; however, sources attributed the attack to the Islamic State of Iraq and the Levant (ISIL). 08/22/2014: A suicide bomber detonated an explosives-laden vehicle near volunteer fighters southwest of Tikrit city, Saladin governorate, Iraq. In addition to the suicide bomber, nine volunteers were killed and 25 others were injured in the blast. No group claimed responsibility for the incident; however, sources attributed the attack to the Islamic State of Iraq and the Levant (ISIL). 09/01/2014: An explosive device detonated targeting volunteer fighters in Buhayrat area, Iskandariyah region, Babil governorate, Iraq. At least one volunteer was killed and two volunteers were injured in the blast. No group claimed responsibility for the incident; however, sources attributed the attack to the Islamic State of Iraq and the Levant (ISIL). 09/01/2014: Assailants detonated an explosive device at a Sahwa Council member's residence in Muatasim region, Saladin governorate, Iraq. There were no reported casualties in the blast, although the assailants kidnapped a guard and stole sheep before fleeing. The outcome of the abduction is unknown. No group claimed responsibility for the incident; however, sources attributed the attack to the Islamic State of Iraq and the Levant (ISIL). 09/11/2014: Assailants kidnapped 20 former Sahwa Council members in near Rashad town, Kirkuk, Iraq. Three of the victims were executed the next day while another victim was released on September 15, 2014. The whereabouts of the remaining hostages are unknown. No group claimed responsibility; however, sources attributed the incident to Islamic State of Iraq and the Levant (ISIL), who committed the attack because there was a newly formed Sahwa Council group in the village. 09/24/2014: Assailants opened fire on a convoy of volunteer forces in Babilan village, Diyala governorate, Iraq. At least 19 volunteers were killed and 39 other people were wounded in the attack. No group claimed responsibility for the incident; however, sources attributed the attack to the Islamic State of Iraq and the Levant (ISIL). 09/27/2014: Assailants attacked a joint military and Sahwa checkpoint in Al-Mushahadah village, Al-Tarmiyah area, Saladin governorate, Iraq. At least two people, including one soldier and one Sahwa member, were killed and five others, including at least four soldiers and one Sahwa member, were wounded in the attack. No group claimed responsibility; however, sources attributed the incident to the Islamic State of Iraq and the Levant (ISIL). 10/07/2014: A suicide bomber detonated an explosives-laden vehicle targeting volunteer fighters in Nujanah area, Saladin governorate, Iraq. At least four volunteers were killed and eight volunteers were injured in the blast. Islamic State of Iraq and the Levant (ISIL) claimed responsibility for the incident. 10/06/2014: Assailants kidnapped two volunteer fighters in Zalayah area, Saladin governorate, Iraq. The victims were executed the following day in a public market in Al-Alam region. No group claimed responsibility for the incident; however, sources attributed the attack to Islamic State of Iraq and the Levant (ISIL). 10/07/2014: Assailants kidnapped three former Sahwa Council members in Baiji city, Saladin governorate, Iraq. The victims were beheaded on October 10, 2014. No group claimed responsibility for the incident; however, sources attributed the attack to Islamic State of Iraq and the Levant (ISIL). 10/16/2014: An explosives-laden vehicle detonated in Dulai area, Baghdad city, Baghdad governorate, Iraq. This was one of two coordinated attacks in the same location in a short period of time. This first blast targeted Shia volunteer fighters while a later blast targeted police responding to the first attack. At least 10 people were killed and 29 people were injured across both explosions. Islamic State of Iraq and the Levant (ISIL) claimed responsibility for the incident. 10/29/2014: An explosive device detonated targeting a volunteer patrol in Zalayah area, Saladin governorate, Iraq. One volunteer was killed and five volunteers were injured in the blast. Islamic State of Iraq and the Levant (ISIL) claimed responsibility for the incident. 11/07/2014: A suicide bomber detonated an explosives-laden vehicle near the Iraqi Volunteer Forces Headquarters in Awja town, Saladin governorate, Iraq. An unknown number of people were killed and injured in the blast. Islamic State of Iraq and the Levant (ISIL) claimed responsibility for the incident. 11/09/2014: Assailants attacked a checkpoint in Rawashid area, Balad town, Saladin governorate, Iraq. Three volunteer fighters were killed and two more were injured in the attack. Islamic State of Iraq and the Levant (ISIL) claimed responsibility for the incident. 11/15/2014: A suicide bomber detonated targeting volunteer fighters in Baiji district, Saladin governorate, Iraq. An unknown number of fighters were killed and injured in the blast. Islamic State of Iraq and the Levant (ISIL) claimed responsibility for the incident. 12/04/2014: An explosive device detonated targeting a vehicle carrying volunteer fighters in Al-Malihah area, Saladin governorate, Iraq. Four fighters were killed in the blast. Islamic State of Iraq and the Levant (ISIL) claimed responsibility for the incident. 12/10/2014: Assailants kidnapped 21 Sunni fighters near Al-Baghdadi town, Al Anbar governorate, Iraq. The hostages were shot and killed on December 12, 2014. No group claimed responsibility for the incident; however, sources attributed the attack to Islamic State of Iraq and the Levant (ISIL). 12/24/2014: A suicide bomber detonated at military headquarters where Sahwa Council members were receiving their salaries in Madain area, Diyala governorate, Iraq. In addition to the bomber, at least 44 people were killed and 62 people were injured in the blast. Islamic State of Iraq and the Levant (ISIL) claimed responsibility for the incident. 12/29/2014: A sniper shot and killed Brigadier General Abbas Hassan Jabr, a senior militia commander and former military commander, in Dhuluiya town, Saladin governorate, Iraq. No group claimed responsibility for the incident; however, sources attributed the attack to Islamic State of Iraq and the Levant (ISIL). 01/08/2015: Assailants planted explosive devices near the private residence of a Sahwa Council leader in Rashad, Kirkuk, Iraq. There were no reported casualties, although the house was destroyed in the blast. No group claimed responsibility for the incident; however, sources attributed the attack to the Islamic State of Iraq and the Levant (ISIL). 01/08/2015: Assailants executed Muhammad Abdallah Abbush, a Sahwa Council member, in Zab region, Kirkuk, Iraq. No group claimed responsibility for the incident; however, sources attributed the attack to the Islamic State of Iraq and the Levant (ISIL). 01/11/2015: Assailants planted explosive devices at Shaykh Ahmad Raja al-Badawi al-Dulaymi's residence in Qadisiyah area, Tikrit city, Saladin governorate, Iraq. Al-Dulaymi, a Sahwa Council leader, was not harmed in the blast. No group claimed responsibility for the incident; however, sources attributed the attack to the Islamic State of Iraq and the Levant (ISIL). 01/11/2015: Assailants attacked a boat carrying volunteer fighters on the Tigris River, Samarra district, Saladin governorate, Iraq. Two volunteers were injured in the assault. No group claimed responsibility for the incident; however, sources attributed the attack to the Islamic State of Iraq and the Levant (ISIL). 01/14/2015: Assailants opened fire on a Sahwa Council checkpoint in Arab Ebjur area, Baghdad city, Baghdad governorate, Iraq. At least two people were killed and three people were injured in the blast. The Islamic State of Iraq and the Levant (ISIL) claimed responsibility for the incident. 01/15/2015: Assailants attacked militia members in Mansouriyah town, Diyala governorate, Iraq. Seven fighters were killed in the ensuing clash. No group claimed responsibility for the incident; however, sources attributed the attack to the Islamic State of Iraq and the Levant (ISIL). 01/18/2015: An explosive device planted in a vehicle detonated in Radwaniyah area, Babil governorate, Iraq. The owner of the vehicle, a Sahwa Council leader, was killed in the blast. The Islamic State of Iraq and the Levant (ISIL) claimed responsibility for the incident. 01/25/2015: An explosive device planted in a vehicle transporting Sahwa Council members detonated in Arab Ebjur area, Baghdad city, Baghdad governorate, Iraq. At least one Sahwa member was killed and two Sahwa members were injured in the blast. The Islamic State of Iraq and the Levant (ISIL) claimed responsibility for the incident. 02/02/2015: A suicide bomber detonated an explosives-laden vehicle at a joint checkpoint in Sur Shanas area of Samarra city, Saladin governorate, Iraq. In addition to the bomber, at least six people were killed and 28 people were injured in the blast. The Islamic State of Iraq and the Levant (ISIL) claimed responsibility for the incident. 02/12/2015: An explosives-laden vehicle detonated targeting volunteer fighters in Awjah area, Saladin governorate, Iraq. This was one of three coordinated attacks in the area on the same day. The blasts resulted in an unknown number of casualties. No group claimed responsibility for the incidents; however, sources attributed the attacks to the Islamic State of Iraq and the Levant (ISIL). 02/18/2015: Assailants attacked a checkpoint in Albu Hayah village, Al Anbar governorate, Iraq. Tribal fighters repelled the assault, killing three assailants. No group claimed responsibility for the incident; however, sources attributed the attack to the Islamic State of Iraq and the Levant (ISIL). 02/23/2015: Assailant attacked a Sahwa Council checkpoint in Arab Ebjur area, Baghdad city, Baghdad governorate, Iraq. Two Sahwa members were killed and three members were injured in the assault. No group claimed responsibility for the incident; however, sources attributed the attack to the Islamic State of Iraq and the Levant (ISIL). 02/28/2015: Assailants opened fire on volunteer fighters near Ishaqi town, Saladin governorate, Iraq. Two volunteers were killed in the attack. The Islamic State of Iraq and the Levant (ISIL) claimed responsibility for the incident. 03/15/2015: A suicide bomber in an explosives-laden vehicle detonated near Shia militia members southeast of Samarra city, Saladin governorate, Iraq. In addition to the bomber, at least three militia members were killed in the blast. The Islamic State of Iraq and the Levant (ISIL) claimed responsibility for the incident. 03/22/2015: Assailants kidnapped approximately 100 former Sahwa Council members in Karma area, Al Anbar governorate, Iraq. The outcome of the kidnapping is unknown. No group claimed responsibility for the incident; however, sources attributed the attack to the Islamic State of Iraq and the Levant (ISIL). 04/02/2015: Assailants attacked an Iraqi Volunteer Forces checkpoint in Samarra city, Saladin governorate, Iraq. At least four volunteers were killed and 12 others were injured in the incident. The Islamic State of Iraq and the Levant (ISIL) claimed responsibility for the attack. 04/15/2015: Assailants ambushed Rihab al-Qaysi's vehicle in Al-Sikak neighborhood, Baiji district, Saladin governorate, Iraq. Qaysi, an Iraqi Volunteer Forces leader, was not harmed, although one of his guards was killed and three more guards were injured in the attack. No group claimed responsibility for the incident; however, sources attributed the attack to the Islamic State of Iraq and the Levant (ISIL). 04/15/2015: Assailants attacked an Iraqi Volunteer Forces position west of Dujail area, Balad district, Saladin governorate, Iraq. At least two volunteer fighters and four assailants were killed and 10 volunteers were injured in the ensuing clash. The Islamic State of Iraq and the Levant (ISIL) claimed responsibility for the incident. 04/15/2015: Assailants attacked volunteer fighters in Baiji district, Saladin governorate, Iraq. At least one person was killed and three others were injured in the assault. No group claimed responsibility for the incident; however, sources attributed the attack to the Islamic State of Iraq and the Levant (ISIL). 04/17/2015: An explosive device detonated targeting a vehicle carrying Sahwa Council members in Rashid area, Babil governorate, Iraq. Two Sahwa members were killed and three other members were injured in the blast. The Islamic State of Iraq and the Levant (ISIL) claimed responsibility for the incident. 04/17/2015: Assailants detonated explosives at a Sahwa Council member's residence in Albu Souda area, Ramadi city, Iraq. This was one of six related attacks targeting the houses of security force members. No casualties were reported. The Islamic State of Iraq and the Levant (ISIL) claimed responsibility for the incidents. 04/20/2015: An explosive device detonated targeting a volunteer forces patrol in Albu Khiyal village, near Adhaim, Diyala governorate, Iraq. At least one volunteer was killed and three were injured in the blast. The Islamic State of Iraq and the Levant (ISIL) claimed responsibility for the incident. 04/30/2015: An explosive device detonated in Buhriz area, Diyala governorate, Iraq. Two volunteer fighters were injured in the blast. Security forces discovered and defused six additional explosive devices in the area. The Islamic State of Iraq and the Levant (ISIL) claimed responsibility for the attack. 05/13/2015: An explosive device detonated targeting Sahwa Council members in Bawi village, Diyala governorate, Iraq. One member was killed and two members were injured in the blast. The Islamic State of Iraq and the Levant (ISIL) claimed responsibility for the incident. 06/01/2015: Assailants attacked volunteer fighters in Karma district, Al Anbar governorate, Iraq. Volunteers repelled the assault, killing 13 assailants. No group claimed responsibility for the incident; however, sources attributed the attack to the Islamic State of Iraq and the Levant (ISIL). 06/03/2015: Assailants attacked volunteer forces in Samarra district, Saladin governorate, Iraq. Security forces repelled the assault, destroying three explosives-laden vehicles driven by suicide bombers and killing 50 assailants. No group claimed responsibility for the incident; however, sources attributed the attack to the Islamic State of Iraq and the Levant (ISIL). 06/04/2015: Assailants fired mortars at a Sahwa Council base in Barwana town, Al Anbar governorate, Iraq. Six Sahwa Council members were killed and four members were injured in the attack. No group claimed responsibility for the incident; however, sources attributed the attack to the Islamic State of Iraq and the Levant (ISIL). 06/08/2015: An explosive device detonated near a Sahwa Council leader in Mahmudiyah district, Babil governorate, Iraq. At least one member was killed and three others, including the leader, were injured in the blast. The Islamic State of Iraq and the Levant (ISIL) claimed responsibility for the attack. 06/26/2015: An explosive device detonate near a Sahwa Council member's vehicle in Arab Ejbur neighborhood, Baghdad city, Baghdad governorate, Iraq. At least two people, the member and his son, were killed and three other people were injured in the blast. The Islamic State of Iraq and the Levant (ISIL) claimed responsibility for the attack. 07/02/2015: An explosive device detonated near a security checkpoint in Khanasah village, Diyala governorate, Iraq. At least one Sahwa Council member was killed and four other members were injured in the blast. The Islamic State of Iraq and the Levant (ISIL) claimed responsibility for the attack. 08/02/2015: Assailants opened fire on Sahwa Council members in Al Tarmiyah district, Saladin governorate, Iraq. At least three members were killed in the attack. The Islamic State of Iraq and the Levant (ISIL) claimed responsibility for the incident. 08/14/2015: A suicide bomber detonated an explosives-laden vehicle targeting a militia headquarters in Ar Rayash, south of Baiji, Saladin, Iraq. In addition to the assailant, at least three volunteer fighters were killed in the blast. The Islamic State of Iraq and the Levant (ISIL) claimed responsibility for the incident. 08/18/2015: A suicide bomber detonated an explosives-laden vehicle targeting volunteer fighters in Baiji city, Saladin, Iraq. At least nine security force members were killed and nine members were injured in the blast. The Islamic State of Iraq and the Levant (ISIL) claimed responsibility for the incident. 08/25/2015: Assailants attacked volunteer fighters in Bashir, Kirkuk, Iraq. Two volunteers were killed in the ensuing clash. No group claimed responsibility for the incident; however, sources attributed the attack to Islamic State of Iraq and the Levant (ISIL). 09/09/2015: Assailants attacked volunteer fighters in Taza Khurmatu city, Daquq district, Kirkuk, Iraq. Security forces repelled the assault, resulting in an unknown number of assailant casualties. The Islamic State of Iraq and the Levant (ISIL) claimed responsibility for the incident. 10/10/2015: An explosive device detonated at a Sahwa Council checkpoint near Albu 'Aythah area, Baghdad city, Baghdad governorate, Iraq. At least two Sahwa Council members were killed and three members were injured in the blast. The Islamic State of Iraq and the Levant (ISIL) claimed responsibility for the incident. 10/12/2015: An explosives-rigged house detonated in Baiji, Saladin, Iraq. Two volunteer fighters were injured in the blast. The Islamic State of Iraq and the Levant (ISIL) claimed responsibility for the incident. 10/18/2015: Assailants fired a mortar shell at joint security forces in the Hamrin Mountains in Tikrit district, Saladin governorate, Iraq. Five volunteer fighters were killed and eight fighters were injured in the assault. No group claimed responsibility for the incident; however, sources attributed the attack to Islamic State of Iraq and the Levant (ISIL). 10/31/2015: A suicide bomber detonated an explosives-laden vehicle targeting volunteer fighters in Samarra district, Saladin governorate, Iraq. Three fighters were injured in the blast. Islamic State of Iraq and the Levant (ISIL) claimed responsibility for the incident. 11/05/2015: Assailants attacked volunteer fighters and security forces with explosives-laden vehicles in Siniyah, Saladin, Iraq. Security forces repelled the assault, killing an unknown number of assailants. This was one of two coordinated attacks in the area. The Islamic State of Iraq and the Levant (ISIL) claimed responsibility for the incidents. 11/06/2015: Assailants attacked security forces in Al-Haydan, Al Anbar, Iraq. Volunteer fighters repelled the assault, killing five assailants. Islamic State of Iraq and the Levant (ISIL) claimed responsibility for the incident. 11/09/2015: An explosive device detonated targeting a volunteer fighter vehicle in Arab Ebjur area, Baghdad city, Baghdad governorate, Iraq. Two volunteers were killed and three volunteers were injured in the blast. The Islamic State of Iraq and the Levant (ISIL) claimed responsibility for the incident. 11/14/2015: Assailants attacked areas in Tikrit district, Saladin governorate, Iraq. This was one of two attacks in the governorate on the same night. Two volunteer fighters were killed and 16 fighters were injured across both events. The Islamic State of Iraq and the Levant (ISIL) claimed responsibility for the incidents. 11/23/2015: Assailants attacked volunteer fighter security posts in Sharawin, Diyala, Iraq. There were no reported casualties resulting from the assault. No group claimed responsibility for the incident; however, sources attributed the attack to Islamic State of Iraq and the Levant (ISIL). 11/24/2015: Assailants targeted volunteer fighters with three explosives-laden vehicles in Al Layn, Al-Salam, Saladin, Iraq. Three assailants were killed and three volunteer fighters were injured in the ensuing clash. No group claimed responsibility for the incident; however, sources attributed the attack to Islamic State of Iraq and the Levant (ISIL). 12/07/2015: An explosive device detonated near a Sahwa Council checkpoint in Tarmiyah, Saladin, Iraq. At least two Sahwa Council members were killed and three Sahwa Council members were injured in the blast. The Islamic State of Iraq and the Levant (ISIL) claimed responsibility for the incident. 12/08/2015: A suicide bomber detonated an explosives-laden vehicle and assailants fired mortars targeting volunteer fighters in Albu Faraj, Al Anbar, Iraq. In addition to the assailant, at least seven volunteer fighters were killed and 12 fighters were injured in the blast. No group claimed responsibility for the incident; however, sources attributed the attack to Islamic State of Iraq and the Levant (ISIL). 12/15/2015: Assailants attacked volunteer fighters in Duwayzat, Mosul, Nineveh, Iraq. At least six assailants were killed in the ensuing clash. No group claimed responsibility for the incident; however, sources attributed the attack to Islamic State of Iraq and the Levant (ISIL). 12/16/2015: Assailants fired rockets at the Zilkan joint forces training camp in Bashiqah, Nineveh, Iraq. At least two security force members were killed and four Turkish soldiers were injured in the attack. This was one of four coordinated assaults around Mosul city on the same day. The Islamic State of Iraq and the Levant (ISIL) claimed responsibility for the incidents. 12/17/2015: Assailants fired mortars at the Zilkan Base staffed by Iraqi Volunteer Forces members and Turkish Armed Forces (TSK) soldiers in Bashiqah, Nineveh governorate, Iraq. At least three volunteer fighters were injured in the attack. The Islamic State of Iraq and the Levant (ISIL) claimed responsibility for the incident. 12/27/2015: Assailants fired rockets at Zilkan military base in Bashiqah, Nineveh, Iraq. At least one security force member was killed and three members were injured in the raid. The Islamic State of Iraq and the Levant (ISIL) claimed responsibility for the incident. 12/28/2015: Assailants attacked volunteer fighters in Al-Layn, Baiji, Saladin, Iraq. Security forces repelled the assault, killing two assailants. No group claimed responsibility for the incident; however, sources attributed the attack to the Islamic State of Iraq and the Levant (ISIL). 01/03/2016: An explosive device detonated targeting an Iraqi Volunteer Forces vehicle in Yusufiyah, Babil governorate, Iraq. At least three volunteer fighters were injured in the blast. The Islamic State of Iraq and the Levant (ISIL) claimed responsibility for the incident. 01/05/2016: Assailants kidnapped an unknown number of civilians and former Sahwa Council members in Shaut village, Hawijah district, Kirkuk, Iraq. This was one of two coordinated attacks in the district on the same day that led to the abduction of 25 people. The outcome of the kidnappings is unknown. No group claimed responsibility for the incidents; however, sources attributed the attacks to Islamic State of Iraq and the Levant (ISIL), noting that the victims were accused of working with security forces. 01/05/2016: Assailants kidnapped an unknown number of civilians and former Sahwa Council members in Haot village, Hawijah district, Kirkuk, Iraq. This was one of two coordinated attacks in the district on the same day that led to the abduction of 25 people. The outcome of the kidnappings is unknown. No group claimed responsibility for the incidents; however, sources attributed the attacks to Islamic State of Iraq and the Levant (ISIL), noting that the victims were accused of working with security forces. 01/06/2016: Assailants opened fire on a Sahwa Council checkpoint in Arab Ejbur area, Baghdad city, Baghdad governorate, Iraq. At least two Sahwa Council members were killed and three members were injured in the assault. The Islamic State of Iraq and the Levant (ISIL) claimed responsibility for the incident. 01/11/2016: An explosive device detonated near an Iraqi Volunteer Forces patrol in Sadiyah, Diyala governorate, Iraq. At least one member was killed and two others were injured in the blast. The Islamic State of Iraq and the Levant (ISIL) claimed responsibility for the attack. 01/18/2016: Assailants opened fire on a vehicle carrying volunteer fighters in Hussein al-Hamadi area, Baqubah, Diyala, Iraq. Three volunteer fighters were killed in the attack. The Islamic State of Iraq and the Levant (ISIL) claimed responsibility for the incident. 02/02/2016: Iraqi Volunteer Force personnel repelled a suicide attack with an explosives-laden vehicle near Tharthar, Al Anbar, Iraq. There were no reported casualties resulting from the attack. No group claimed responsibility for the incident; however, sources attributed the attack to the Islamic State of Iraq and the Levant (ISIL). 02/05/2016: Assailants, including two suicide bombers, attacked joint Iraqi Volunteer Forces and Peshmerga personnel in Kadila, Makhmur, Arbil, Iraq. At least one volunteer fighter and six assailants were killed and ten volunteer fighters were injured in the ensuing clash. The Islamic State of Iraq and the Levant (ISIL) claimed responsibility for the incident. 02/05/2016: Three suicide bombers attacked Iraqi Volunteer Force members in Tikrit, Saladin, Iraq. In addition to the assailants, at least three volunteer fighters were killed and 10 fighters were injured in the blast. The Islamic State of Iraq and the Levant (ISIL) claimed responsibility for the incident. 02/09/2016: Assailants attacked Iraqi Volunteer Forces in Fallujah, Al Anbar, Iraq. At least 11 fighters were killed in the assault. No group claimed responsibility for the incident; however, sources attributed the attack to the Islamic State of Iraq and the Levant (ISIL). 02/27/2016: Assailants attacked Turkoman Mobilization Forces (TMF) in Bashir area, Kirkuk, Iraq. At least one TMF member and 35 assailants were killed and four TMF members and 20 assailants were injured in the ensuing clash. No group claimed responsibility for the incident; however, sources attributed the attack to the Islamic State of Iraq and the Levant (ISIL). 03/04/2016: Assailants attacked a volunteer fighters' headquarters in Subayhat, Al Anbar, Iraq. This was one of two coordinated assaults on Iraqi Volunteer Forces in the area on the same day. At least six volunteer fighters were killed and four fighters were injured across both attacks. The Islamic State of Iraq and the Levant (ISIL) claimed responsibility for the incidents. 03/04/2016: Assailants attacked a volunteer fighters' headquarters in Rawfah, Al Anbar, Iraq. This was one of two coordinated assaults on Iraqi Volunteer Forces in the area on the same day. At least six volunteer fighters were killed and four fighters were injured across both attacks. The Islamic State of Iraq and the Levant (ISIL) claimed responsibility for the incidents. 03/11/2016: An explosive device detonated targeting a volunteer fighter patrol in Arab Ebjur area, Baghdad city, Baghdad governorate, Iraq. Two fighters were killed and six fighters were injured in the blast. The Islamic State of Iraq and the Levant (ISIL) claimed responsibility for the incident. 03/21/2016: Assailants opened fire on a security checkpoint in Albu Musa, Diyala, Iraq. Two volunteer fighters were killed in the attack. No group claimed responsibility for the incident; however, sources attributed the attack to the Islamic State of Iraq and the Levant (ISIL). 03/23/2016: An explosive device detonated targeting volunteer fighters in Arab Ebjur area, Baghdad city, Baghdad governorate, Iraq. Two fighters were killed and three fighters were injured in the blast. The Islamic State of Iraq and the Levant (ISIL) claimed responsibility for the incident. 03/29/2016: An explosives-rigged house detonated in Kubaysah, Al Anbar, Iraq. Colonel Yusuf Rabi' al-Namrawi, a volunteer fighter commander, was killed and three of his aides were injured in the blast. The Islamic State of Iraq and the Levant (ISIL) claimed responsibility for the incident. 04/02/2016: A suicide bomber detonated targeting volunteer fighters in Tarmiyah, Saladin, Iraq. In addition to the assailant, at least four volunteer fighters were killed and nine fighters were injured in the blast. The Islamic State of Iraq and the Levant (ISIL) claimed responsibility for the incident. 04/04/2016: A suicide bomber detonated an explosives-laden vehicle targeting a paramilitary forces convoy in Mushahidah, Saladin, Iraq. In addition to the assailant, at least three militia members were killed and 10 members were injured in the blast. The Islamic State of Iraq and the Levant (ISIL) claimed responsibility for the incident. 04/04/2016: Assailants attacked militia members in Saladin, Iraq. This was one of two coordinated attacks in the area on the same day. At least six militia members were killed and 18 members were injured across both attacks. No group claimed responsibility for the incidents; however, sources attributed the attack to the Islamic State of Iraq and the Levant (ISIL). 04/04/2016: Assailants attacked militia members in Saladin, Iraq. This was one of two coordinated attacks in the area on the same day. At least six militia members were killed and 18 members were injured across both attacks. No group claimed responsibility for the incidents; however, sources attributed the attack to the Islamic State of Iraq and the Levant (ISIL). 04/07/2016: An explosive device detonated targeting a vehicle carrying volunteer fighters in Arab Ebjur, Baghdad, Iraq. At least two volunteers were killed and three volunteers were injured in the blast. The Islamic State of Iraq and the Levant (ISIL) claimed responsibility for the incident. 04/10/2016: An explosive device detonated targeting a volunteer fighter patrol in Tarmiyah, Saladin, Iraq. At least two volunteers were killed and four were injured in the blast. The Islamic State of Iraq and the Levant (ISIL) claimed responsibility for the incident. 04/10/2016: A suicide bomber detonated targeting volunteer fighters in Albu Mufarrij, Kirkuk, Iraq. In addition to the bomber, a volunteer forces commander was killed in the blast. The Islamic State of Iraq and the Levant (ISIL) claimed responsibility for the incident. 04/15/2016: Assailants kidnapped a volunteer fighter in Hit, Al Anbar, Iraq. The victim was killed later the same day. No group claimed responsibility for the incident; however, sources attributed the attack to Islamic State of Iraq and the Levant (ISIL). 04/18/2016: A sniper opened fire on Colonel Umar Thamir's convoy in Tikrit, Saladin, Iraq. Thamir, a volunteer fighter commander, was not harmed, although one of his guards was injured in the attack. No group claimed responsibility for the incident; however, sources attributed the attack to the Islamic State of Iraq and the Levant (ISIL). 04/18/2016: Suicide bombers equipped with explosives-laden vehicles attacked volunteer fighters in Bashir, Kirkuk, Iraq. At least one volunteer fighter and 15 assailants were killed and 20 assailants were injured in the ensuing clash. The Islamic State of Iraq and the Levant (ISIL) claimed responsibility for the incident. 05/02/2016: Assailants fired six chemical-laced rockets at volunteer fighters in Bashir, Kirkuk, Iraq. At least eight volunteers were injured in the attack. The Islamic State of Iraq and the Levant (ISIL) claimed responsibility for the incident. 05/04/2016: An explosive device detonated targeting a volunteer fighter patrol in Arab Ebjur area, Baghdad city, Baghdad governorate, Iraq. One volunteer was killed and five volunteers were injured in the blast. The Islamic State of Iraq and the Levant (ISIL) claimed responsibility for the incident. 05/04/2016: Assailants fired 15 rockets at security forces in Bashir village, Kirkuk, Iraq. Two volunteer fighters were injured in the attack. No group claimed responsibility for the incident; however, sources attributed the attack to the Islamic State of Iraq and the Levant (ISIL). 05/05/2016: Security forces discovered and attempted to defuse an explosive device planted in a house in Bashir village, Kirkuk, Iraq. The device detonated, killing two volunteer fighters. No group claimed responsibility for the incident; however, sources attributed the attack to the Islamic State of Iraq and the Levant (ISIL). 05/07/2016: Assailants attacked volunteer fighters in the Baiji district, Saladin, Iraq. Security forces repelled the assault, killing two assailants. The Islamic State of Iraq and the Levant (ISIL) claimed responsibility for the incident. 05/22/2016: Five suicide bombers attacked security forces in Al Hara, Rutba, Al Anbar, Iraq. The five assailants were killed and four volunteer fighters were injured in the ensuing clash. No group claimed responsibility for the incident; however, sources attributed the attack to the Islamic State of Iraq and the Levant (ISIL). 05/25/2016: A sniper opened fire on volunteer fighters in Muslakhah, Saladin, Iraq. Khalid al-Jumayli, a volunteer fighter leader, was killed and five of his aides were injured in the attack. No group claimed responsibility for the incident; however, sources attributed the attack to the Islamic State of Iraq and the Levant (ISIL). 05/28/2016: A suicide bomber detonated an explosives-laden vehicle targeting volunteer fighters in Fallujah, Al Anbar, Iraq. At least 12 volunteers were killed in the blast. The Islamic State of Iraq and the Levant (ISIL) claimed responsibility for the incident. 06/08/2016: An explosive device detonated targeting a volunteer fighter patrol in Hanbas, Baqubah, Diyala, Iraq. Three volunteers were killed and three volunteers were injured in the blast. The Islamic State of Iraq and the Levant (ISIL) claimed responsibility for the incident. 06/10/2016: An explosive device detonated at a volunteer fighter checkpoint in Hambas, Muqdadiyah, Diyala, Iraq. Three volunteer fighters were killed and one fighter was injured in the blast. The Islamic State of Iraq and the Levant (ISIL) claimed responsibility for the incident. 06/11/2016: Assailants attacked volunteer fighters in Baiji, Saladin, Iraq. Security forces repelled the assault, killing an unknown number of assailants. No group claimed responsibility for the incident; however, sources attributed the attack to the Islamic State of Iraq and the Levant (ISIL). 06/21/2016: A suicide bomber detonated an explosives-laden vehicle near the volunteer fighters' headquarters in Dawr, Saladin, Iraq. In addition to the assailant, at least four volunteers were killed and six volunteers were injured in the blast. The Islamic State of Iraq and the Levant (ISIL) claimed responsibility for the incident. 07/14/2016: An explosive device detonated targeting a volunteer fighter patrol in Tikrit, Saladin, Iraq. At least three volunteer forces were injured in the blast. No group claimed responsibility for the incident; however, sources attributed the attack to Islamic State of Iraq and the Levant (ISIL). 07/30/2016: Assailants attacked Sheikh 'Awwad Sa'id al-Jughayfi's convoy in Hadithah, Al Anbar, Iraq. Al-Jughayfi, a volunteer fighter commander, was not harmed, though two of his guards were injured in the assault. No group claimed responsibility for the incident; however, sources attributed the attack to the Islamic State of Iraq and the Levant (ISIL). 07/31/2016: Assailants raided a house belonging to two volunteer fighters in Arab Ebjur, Baghdad, Iraq. At least seven people, including the two volunteers and five civilians, were killed in the attack. The Islamic State of Iraq and the Levant (ISIL) claimed responsibility for the incident. 08/27/2016: Assailants executed seven Islamic State of Iraq and the Levant (ISIL) members before an audience at Bab At Tub Square in Mosul, Nineveh, Iraq. No group claimed responsibility; however, sources attributed the attack to the Islamic State of Iraq and the Levant (ISIL). 09/22/2016: An explosive device detonated near an Iraqi Volunteer Forces vehicle in Rasheed, Babil, Iraq. At least two people were killed and four other people were injured in the blast. The Islamic State of Iraq and the Levant (ISIL) claimed responsibility for the attack. 10/01/2016: Assailants fired mortars at joint forces at the Zilkan Military Camp in Nineveh, Iraq. There were no reported casualties resulting from the attack. No group claimed responsibility for the incident; however, sources attributed the attack to the Islamic State of Iraq and the Levant (ISIL). 10/10/2016: Assailants executed two members of the national resistance in Mosul, Nineveh, Iraq. No group claimed responsibility for the incident; however, sources attributed the attack to the Islamic State of Iraq and the Levant (ISIL). 10/15/2016: Two suicide bombers raided the house of an Iraqi Volunteer Forces leader in Kuban, Diyala, Iraq. At least four members of the chief's family were killed in the attack. Following the assault, the assailants fled but were cornered by security members, causing them to detonate and kill themselves. The Islamic State of Iraq and the Levant (ISIL) claimed responsibility for the attack. 10/18/2016: Assailants attacked tribal forces in southeast Kirkuk city, Kirkuk, Iraq. It is unknown if the assault resulted in casualties. No group claimed responsibility for the incident; however, sources attributed the attack to the Islamic State of Iraq and the Levant (ISIL). 10/20/2016: Assailants attacked volunteer fighters in Bashir area, Kirkuk, Iraq. It is unknown if the assault resulted in casualties. No group claimed responsibility for the incident; however, sources attributed the attack to the Islamic State of Iraq and the Levant (ISIL). 10/21/2016: Two suicide bombers detonated at the house of Sheikh 'Adnan al-Bazi, a volunteer fighter leader, in Mutasim, Saladin, Iraq. In addition to the assailants, three people were killed and 15 people, including al-Bazi, were injured in the blasts. The Islamic State of Iraq and the Levant (ISIL) claimed responsibility for the attack. 10/31/2016: A suicide bomber detonated at a checkpoint in Hadithah, Al Anbar, Iraq. In addition to the assailant, at least two volunteer fighters were killed and three were injured in the blast. The Islamic State of Iraq and the Levant (ISIL) claimed responsibility for the incident. 11/04/2016: A suicide bomber in an explosives-laden vehicle detonated near volunteer forces in Guzayl, Nineveh, Iraq. At least eight volunteers were injured in the blast. The Islamic State of Iraq and the Levant (ISIL) claimed responsibility for the incident and identified the assailant as Terence Kelly from Dublin. 11/19/2016: Assailants set up a checkpoint in Askari, Shirqat, Saladin, Iraq. The assailants stopped a vehicle carrying volunteer forces members and killed five passengers. This was one of two similar attacks in the area on the same day. The Islamic State of Iraq and the Levant (ISIL) claimed responsibility for the incidents. 11/22/2016: Assailants attacked volunteer forces in At Tabadul at Tijari, Nineveh, Iraq. At least 12 volunteers were injured in the assault. No group claimed responsibility for the incident; however, sources attributed the attack to the Islamic State of Iraq and the Levant (ISIL). 11/23/2016: Assailant attacked volunteer forces along the road between Sinjar and Tal Afar in Nineveh, Iraq. There were no reported casualties resulting from the assault. No group claimed responsibility for the incident; however, sources attributed the attack to the Islamic State of Iraq and the Levant (ISIL). 11/25/2016: Assailants, including suicide bombers equipped with explosives-laden vehicles, attacked volunteer forces between Muhallabiyah and Nazarah in Nineveh, Iraq. Security forces repelled the assault, killing an unknown number of assailants. No group claimed responsibility for the incident; however, sources attributed the attack to the Islamic State of Iraq and the Levant (ISIL). 12/11/2016: A suicide bomber detonated an explosives-laden vehicle when a security patrol stopped the driver in Moalimean, Fallujah, Al Anbar, Iraq. In addition to the assailant, at least one patrol member was killed and two security members were injured in the blast. This was one of two coordinated attacks in the area on the same day. The Islamic State of Iraq and the Levant (ISIL) claimed responsibility for the incidents. 01/14/2017: Assailants ambushed security forces in Imam Weis, Diyala, Iraq. At least eight soldiers were killed and four soldiers were injured in the assault. The Islamic State of Iraq and the Levant (ISIL) claimed responsibility for the incident. 04/16/2017: Assailants publicly executed eight Islamic State of Iraq and the Levant (ISIL) members in Mosul, Nineveh, Iraq. The Islamic State of Iraq and the Levant (ISIL) claimed responsibility for the incident and accused the victims of providing information to security forces. 10/20/2017: Assailants executed by firing squad three senior Islamic State of Iraq and the Levant (ISIL) members and an unknown number of their family members in Qaim, Al Anbar, Iraq. No group claimed responsibility for the incident; however, sources attributed the attack to the Islamic State of Iraq and the Levant (ISIL). 12/15/2017: A suicide bomber detonated targeting Peace Brigades personnel in Huwaysh, Saladin, Iraq. In addition to the assailant, two people were killed and six others were injured in the attack. The Islamic State of Iraq and the Levant (ISIL) claimed responsibility for the incident.\""
      ]
     },
     "execution_count": 33,
     "metadata": {},
     "output_type": "execute_result"
    }
   ],
   "source": [
    "text = ' '.join(isis_iraq_data['summary'][isis_iraq_data['targtype1_txt'] == 'Terrorists/Non-State Militia'].dropna().tolist())\n",
    "text"
   ]
  },
  {
   "cell_type": "code",
   "execution_count": 37,
   "metadata": {},
   "outputs": [],
   "source": [
    "common_phrases = text_manipulation(text, r\"\"\" PHRASE: {(<JJ>* <NN.*>+ <IN>)? <JJ>* <NN.*>+}\"\"\")"
   ]
  },
  {
   "cell_type": "code",
   "execution_count": 38,
   "metadata": {},
   "outputs": [
    {
     "name": "stdout",
     "output_type": "stream",
     "text": [
      "('islamic state of iraq', 134)\n",
      "('saladin governorate', 33)\n",
      "('volunteer fighters', 32)\n",
      "('explosive device', 31)\n",
      "('suicide bomber', 22)\n",
      "('state of iraq', 19)\n",
      "('explosives-laden vehicle', 15)\n",
      "('al anbar', 14)\n",
      "('diyala governorate', 13)\n",
      "('security forces', 13)\n",
      "('same day', 12)\n",
      "('baghdad city', 11)\n",
      "('baghdad governorate', 11)\n",
      "('sahwa council members', 8)\n",
      "('coordinated attacks', 8)\n",
      "('suicide bombers', 8)\n",
      "('sahwa council leader', 7)\n",
      "('al anbar governorate', 7)\n",
      "('sahwa member', 6)\n",
      "('sahwa council member', 6)\n",
      "('babil governorate', 6)\n",
      "('sahwa members', 5)\n",
      "('other people', 4)\n",
      "('militia members', 4)\n",
      "('volunteer forces', 4)\n",
      "('reported casualties', 3)\n",
      "('same night', 3)\n",
      "('security members', 3)\n",
      "('explosives-laden vehicles', 3)\n",
      "('unknown number of assailants', 3)\n",
      "('volunteer fighter commander', 3)\n",
      "('ramadi city', 2)\n",
      "('sahwa council building in daquq district', 2)\n",
      "('family members', 2)\n",
      "('samarra district', 2)\n",
      "('tikrit city', 2)\n",
      "('volunteer fighters in baiji district', 2)\n",
      "('sahwa council checkpoint in arab ebjur area', 2)\n",
      "('fire on volunteer fighters', 2)\n",
      "('baiji district', 2)\n",
      "('other members', 2)\n",
      "('security force members', 2)\n",
      "('volunteer fighters in bashir', 2)\n",
      "('explosives-rigged house', 2)\n",
      "('unknown number of civilians', 2)\n",
      "('hawijah district', 2)\n",
      "('volunteer fighter', 2)\n",
      "('coordinated assaults on iraqi volunteer forces', 2)\n",
      "('volunteer fighter patrol in arab ebjur area', 2)\n",
      "('militia members in saladin', 2)\n",
      "('volunteer fighters in arab ebjur', 2)\n",
      "('volunteer fighter leader', 2)\n"
     ]
    }
   ],
   "source": [
    "for x,y in sorted(common_phrases.items(), key=operator.itemgetter(1), reverse=True):\n",
    "    if y>=2:\n",
    "        print((x,y))"
   ]
  },
  {
   "cell_type": "code",
   "execution_count": null,
   "metadata": {},
   "outputs": [],
   "source": []
  }
 ],
 "metadata": {
  "kernelspec": {
   "display_name": "Python 3",
   "language": "python",
   "name": "python3"
  },
  "language_info": {
   "codemirror_mode": {
    "name": "ipython",
    "version": 3
   },
   "file_extension": ".py",
   "mimetype": "text/x-python",
   "name": "python",
   "nbconvert_exporter": "python",
   "pygments_lexer": "ipython3",
   "version": "3.6.3"
  }
 },
 "nbformat": 4,
 "nbformat_minor": 2
}
