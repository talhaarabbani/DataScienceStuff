{
 "cells": [
  {
   "cell_type": "code",
   "execution_count": 2,
   "metadata": {},
   "outputs": [
    {
     "name": "stdout",
     "output_type": "stream",
     "text": [
      "Collecting smartsheet-python-sdk\n",
      "  Downloading https://files.pythonhosted.org/packages/e7/3d/b9c83dca4dd72cea6be7cfb097a88dfd9e15e64bc96a9e94b82d6de5d88e/smartsheet_python_sdk-1.5.0-py2.py3-none-any.whl (201kB)\n",
      "Requirement already satisfied: certifi in c:\\users\\tmrnew\\appdata\\local\\programs\\python\\python36-32\\lib\\site-packages (from smartsheet-python-sdk) (2017.7.27.1)\n",
      "Requirement already satisfied: python-dateutil in c:\\users\\tmrnew\\appdata\\local\\programs\\python\\python36-32\\lib\\site-packages (from smartsheet-python-sdk) (2.6.1)\n",
      "Collecting requests-toolbelt (from smartsheet-python-sdk)\n",
      "  Downloading https://files.pythonhosted.org/packages/60/ef/7681134338fc097acef8d9b2f8abe0458e4d87559c689a8c306d0957ece5/requests_toolbelt-0.9.1-py2.py3-none-any.whl (54kB)\n",
      "Requirement already satisfied: six>=1.9 in c:\\users\\tmrnew\\appdata\\local\\programs\\python\\python36-32\\lib\\site-packages (from smartsheet-python-sdk) (1.11.0)\n",
      "Requirement already satisfied: requests in c:\\users\\tmrnew\\appdata\\local\\programs\\python\\python36-32\\lib\\site-packages (from smartsheet-python-sdk) (2.17.3)\n",
      "Requirement already satisfied: urllib3<1.22,>=1.21.1 in c:\\users\\tmrnew\\appdata\\local\\programs\\python\\python36-32\\lib\\site-packages (from requests->smartsheet-python-sdk) (1.21.1)\n",
      "Requirement already satisfied: chardet<3.1.0,>=3.0.2 in c:\\users\\tmrnew\\appdata\\local\\programs\\python\\python36-32\\lib\\site-packages (from requests->smartsheet-python-sdk) (3.0.4)\n",
      "Requirement already satisfied: idna<2.6,>=2.5 in c:\\users\\tmrnew\\appdata\\local\\programs\\python\\python36-32\\lib\\site-packages (from requests->smartsheet-python-sdk) (2.5)\n",
      "Installing collected packages: requests-toolbelt, smartsheet-python-sdk\n",
      "Successfully installed requests-toolbelt-0.9.1 smartsheet-python-sdk-1.5.0\n"
     ]
    },
    {
     "name": "stderr",
     "output_type": "stream",
     "text": [
      "You are using pip version 19.0.1, however version 19.0.3 is available.\n",
      "You should consider upgrading via the 'python -m pip install --upgrade pip' command.\n"
     ]
    }
   ],
   "source": [
    "import sys\n",
    "!pip install smartsheet-python-sdk"
   ]
  },
  {
   "cell_type": "code",
   "execution_count": 11,
   "metadata": {},
   "outputs": [],
   "source": [
    "import smartsheet\n",
    "import logging\n",
    "import os.path"
   ]
  },
  {
   "cell_type": "code",
   "execution_count": 12,
   "metadata": {},
   "outputs": [],
   "source": [
    "# Initialize client\n",
    "newsheet = smartsheet.Smartsheet('eaa1r3rmg8qibumjcvsgjsku82')\n",
    "\n",
    "# Make sure we don't miss any errors\n",
    "newsheet.errors_as_exceptions(True)"
   ]
  },
  {
   "cell_type": "code",
   "execution_count": 13,
   "metadata": {},
   "outputs": [
    {
     "name": "stdout",
     "output_type": "stream",
     "text": [
      "Loaded 2 rows from sheet: Testing\n"
     ]
    }
   ],
   "source": [
    "# Log all calls\n",
    "logging.basicConfig(filename='rwsheet.log', level=logging.INFO)\n",
    "\n",
    "sheetID = 3610680340309892\n",
    "\n",
    "\n",
    "\n",
    "# Load entire sheet\n",
    "sheet = newsheet.Sheets.get_sheet(sheetID)\n",
    "\n",
    "print (\"Loaded \" + str(len(sheet.rows)) + \" rows from sheet: \" + sheet.name)"
   ]
  },
  {
   "cell_type": "code",
   "execution_count": 15,
   "metadata": {},
   "outputs": [
    {
     "name": "stdout",
     "output_type": "stream",
     "text": [
      "{\"accessLevel\": \"OWNER\", \"columns\": [{\"id\": 5852237885925252, \"index\": 0, \"primary\": true, \"title\": \"SiteID\", \"type\": \"TEXT_NUMBER\", \"validation\": false, \"version\": 0, \"width\": 150}, {\"id\": 3600438072240004, \"index\": 1, \"title\": \"City\", \"type\": \"TEXT_NUMBER\", \"validation\": false, \"version\": 0, \"width\": 150}, {\"id\": 8104037699610500, \"index\": 2, \"title\": \"State\", \"type\": \"TEXT_NUMBER\", \"validation\": false, \"version\": 0, \"width\": 150}, {\"id\": 785688305133444, \"index\": 3, \"title\": \"Zip\", \"type\": \"TEXT_NUMBER\", \"validation\": false, \"version\": 0, \"width\": 150}, {\"id\": 5289287932503940, \"index\": 4, \"title\": \"Street Address\", \"type\": \"TEXT_NUMBER\", \"validation\": false, \"version\": 0, \"width\": 150}, {\"id\": 3037488118818692, \"index\": 5, \"title\": \"Action\", \"type\": \"TEXT_NUMBER\", \"validation\": false, \"version\": 0, \"width\": 150}], \"createdAt\": \"2019-04-09T18:44:39+00:00Z\", \"dependenciesEnabled\": false, \"effectiveAttachmentOptions\": [\"EVERNOTE\", \"ONEDRIVE\", \"BOX_COM\", \"DROPBOX\", \"EGNYTE\", \"FILE\", \"GOOGLE_DRIVE\"], \"ganttEnabled\": false, \"id\": 3610680340309892, \"modifiedAt\": \"2019-04-09T18:51:11+00:00Z\", \"name\": \"Testing\", \"permalink\": \"https://app.smartsheet.com/sheets/fpR9VP679wm6h3FHFMGCHFX6gPgjwrWfg2QvMQW1\", \"resourceManagementEnabled\": false, \"rows\": [{\"cells\": [{\"columnId\": 5852237885925252, \"displayValue\": \"Site123\", \"value\": \"Site123\"}, {\"columnId\": 3600438072240004, \"displayValue\": \"Toronto\", \"value\": \"Toronto\"}, {\"columnId\": 8104037699610500, \"displayValue\": \"Ontario\", \"value\": \"Ontario\"}, {\"columnId\": 785688305133444, \"displayValue\": \"Y5p5K9\", \"value\": \"Y5p5K9\"}, {\"columnId\": 5289287932503940, \"displayValue\": \"The Street\", \"value\": \"The Street\"}, {\"columnId\": 3037488118818692, \"displayValue\": \"This street doesn't exist\", \"value\": \"This street doesn't exist\"}], \"createdAt\": \"2019-04-09T18:50:25+00:00Z\", \"expanded\": true, \"id\": 7114721893083012, \"modifiedAt\": \"2019-04-09T18:50:25+00:00Z\", \"rowNumber\": 1}, {\"cells\": [{\"columnId\": 5852237885925252, \"displayValue\": \"Site456\", \"value\": \"Site456\"}, {\"columnId\": 3600438072240004, \"displayValue\": \"NewYork\", \"value\": \"NewYork\"}, {\"columnId\": 8104037699610500, \"displayValue\": \"NewYork\", \"value\": \"NewYork\"}, {\"columnId\": 785688305133444, \"displayValue\": \"32523\", \"value\": 32523.0}, {\"columnId\": 5289287932503940, \"displayValue\": \"The Other Street\", \"value\": \"The Other Street\"}, {\"columnId\": 3037488118818692, \"displayValue\": \"This street also doesn't exist\", \"value\": \"This street also doesn't exist\"}], \"createdAt\": \"2019-04-09T18:51:11+00:00Z\", \"expanded\": true, \"id\": 5303883150452612, \"modifiedAt\": \"2019-04-09T18:51:11+00:00Z\", \"rowNumber\": 2, \"siblingId\": 7114721893083012}], \"totalRowCount\": 2, \"userSettings\": {\"criticalPathEnabled\": false, \"displaySummaryTasks\": true}, \"version\": 2}\n"
     ]
    }
   ],
   "source": [
    "print(sheet)\n"
   ]
  },
  {
   "cell_type": "code",
   "execution_count": 19,
   "metadata": {},
   "outputs": [],
   "source": [
    "from smartsheet import *\n",
    "import pandas as pd\n",
    "#from credentials import smartsheet_token\n",
    "\n",
    "smartsheet = smartsheet.Smartsheet('eaa1r3rmg8qibumjcvsgjsku82')\n",
    "\n",
    "def get_sheet_as_df(sheet_id):\n",
    "    ss1 = smartsheet.Sheets.get_sheet(sheet_id, page_size=0)\n",
    "    row_count = ss1.total_row_count\n",
    "    ss1 = smartsheet.Sheets.get_sheet(sheet_id, page_size=row_count)\n",
    "    df = get_values(ss1)\n",
    "    s2 = get_columns(ss1)\n",
    "    df.columns = s2\n",
    "    return df\n",
    "\n",
    "def get_columns(ss):\n",
    "    cl = ss.get_columns()\n",
    "    d3 = cl.to_dict()\n",
    "    df = pd.DataFrame(d3['data'])\n",
    "    df = df.set_index('id')\n",
    "    return df.title\n",
    "\n",
    "def get_values(ss):\n",
    "    d = ss.to_dict()\n",
    "    drows = d['rows']\n",
    "    rownumber = [x['rowNumber'] for x in drows]\n",
    "    rows = [x['cells'] for x in drows]\n",
    "    values = [[x['displayValue'] for x in y] for y in rows]\n",
    "    return pd.DataFrame(values)\n",
    "\n",
    "def check_overlaps(list1, list2):\n",
    "#check for overlaps and remainders\n",
    "#from http://stackoverflow.com/questions/5094083/find-the-overlap-between-2-python-lists\n",
    "    intersection = set(list1) & set(list2)\n",
    "    l1_remainder = set(list1) - set(list2)\n",
    "    l2_remainder = set(list2) - set(list1)\n",
    "    d = {'intersection':intersection,\n",
    "        'list1_remainder': l1_remainder,\n",
    "        'list2_remainder': l2_remainder\n",
    "        }\n",
    "    return d"
   ]
  },
  {
   "cell_type": "code",
   "execution_count": 22,
   "metadata": {},
   "outputs": [
    {
     "data": {
      "text/html": [
       "<div>\n",
       "<style scoped>\n",
       "    .dataframe tbody tr th:only-of-type {\n",
       "        vertical-align: middle;\n",
       "    }\n",
       "\n",
       "    .dataframe tbody tr th {\n",
       "        vertical-align: top;\n",
       "    }\n",
       "\n",
       "    .dataframe thead th {\n",
       "        text-align: right;\n",
       "    }\n",
       "</style>\n",
       "<table border=\"1\" class=\"dataframe\">\n",
       "  <thead>\n",
       "    <tr style=\"text-align: right;\">\n",
       "      <th>title</th>\n",
       "      <th>SiteID</th>\n",
       "      <th>City</th>\n",
       "      <th>State</th>\n",
       "      <th>Zip</th>\n",
       "      <th>Street Address</th>\n",
       "      <th>Action</th>\n",
       "    </tr>\n",
       "  </thead>\n",
       "  <tbody>\n",
       "    <tr>\n",
       "      <th>0</th>\n",
       "      <td>Site123</td>\n",
       "      <td>Toronto</td>\n",
       "      <td>Ontario</td>\n",
       "      <td>Y5p5K9</td>\n",
       "      <td>The Street</td>\n",
       "      <td>This street doesn't exist</td>\n",
       "    </tr>\n",
       "    <tr>\n",
       "      <th>1</th>\n",
       "      <td>Site456</td>\n",
       "      <td>NewYork</td>\n",
       "      <td>NewYork</td>\n",
       "      <td>32523</td>\n",
       "      <td>The Other Street</td>\n",
       "      <td>This street also doesn't exist</td>\n",
       "    </tr>\n",
       "  </tbody>\n",
       "</table>\n",
       "</div>"
      ],
      "text/plain": [
       "title   SiteID     City    State     Zip    Street Address  \\\n",
       "0      Site123  Toronto  Ontario  Y5p5K9        The Street   \n",
       "1      Site456  NewYork  NewYork   32523  The Other Street   \n",
       "\n",
       "title                          Action  \n",
       "0           This street doesn't exist  \n",
       "1      This street also doesn't exist  "
      ]
     },
     "execution_count": 22,
     "metadata": {},
     "output_type": "execute_result"
    }
   ],
   "source": [
    "sheetdf = get_sheet_as_df(3610680340309892)\n",
    "sheetdf"
   ]
  },
  {
   "cell_type": "code",
   "execution_count": 29,
   "metadata": {},
   "outputs": [
    {
     "data": {
      "text/plain": [
       "'Site456'"
      ]
     },
     "execution_count": 29,
     "metadata": {},
     "output_type": "execute_result"
    }
   ],
   "source": [
    "sheetdf.SiteID[1]"
   ]
  },
  {
   "cell_type": "code",
   "execution_count": 30,
   "metadata": {},
   "outputs": [
    {
     "name": "stdout",
     "output_type": "stream",
     "text": [
      "Collecting pdfrw\n",
      "  Downloading https://files.pythonhosted.org/packages/c0/84/af442c4458756bb0c0d2424102d1200616f3ff9b82c48aaa130e08549bf6/pdfrw-0.4-py2.py3-none-any.whl (69kB)\n",
      "Installing collected packages: pdfrw\n",
      "Successfully installed pdfrw-0.4\n"
     ]
    },
    {
     "name": "stderr",
     "output_type": "stream",
     "text": [
      "You are using pip version 19.0.1, however version 19.0.3 is available.\n",
      "You should consider upgrading via the 'python -m pip install --upgrade pip' command.\n"
     ]
    }
   ],
   "source": [
    "!pip install pdfrw"
   ]
  },
  {
   "cell_type": "code",
   "execution_count": 33,
   "metadata": {},
   "outputs": [
    {
     "data": {
      "text/plain": [
       "{'business_name_1': 'Site456'}"
      ]
     },
     "execution_count": 33,
     "metadata": {},
     "output_type": "execute_result"
    }
   ],
   "source": [
    "#checking how to map dataframe values to dictionary\n",
    "\n",
    "data_dict = {\n",
    "   'business_name_1': sheetdf.SiteID[1]\n",
    "}\n",
    "data_dict"
   ]
  },
  {
   "cell_type": "code",
   "execution_count": 31,
   "metadata": {},
   "outputs": [
    {
     "ename": "PdfParseError",
     "evalue": "Could not read PDF file invoice_template.pdf",
     "output_type": "error",
     "traceback": [
      "\u001b[1;31m---------------------------------------------------------------------------\u001b[0m",
      "\u001b[1;31mFileNotFoundError\u001b[0m                         Traceback (most recent call last)",
      "\u001b[1;32mc:\\users\\tmrnew\\appdata\\local\\programs\\python\\python36-32\\lib\\site-packages\\pdfrw\\pdfreader.py\u001b[0m in \u001b[0;36m__init__\u001b[1;34m(self, fname, fdata, decompress, decrypt, password, disable_gc, verbose)\u001b[0m\n\u001b[0;32m    567\u001b[0m                     \u001b[1;32mtry\u001b[0m\u001b[1;33m:\u001b[0m\u001b[1;33m\u001b[0m\u001b[0m\n\u001b[1;32m--> 568\u001b[1;33m                         \u001b[0mf\u001b[0m \u001b[1;33m=\u001b[0m \u001b[0mopen\u001b[0m\u001b[1;33m(\u001b[0m\u001b[0mfname\u001b[0m\u001b[1;33m,\u001b[0m \u001b[1;34m'rb'\u001b[0m\u001b[1;33m)\u001b[0m\u001b[1;33m\u001b[0m\u001b[0m\n\u001b[0m\u001b[0;32m    569\u001b[0m                         \u001b[0mfdata\u001b[0m \u001b[1;33m=\u001b[0m \u001b[0mf\u001b[0m\u001b[1;33m.\u001b[0m\u001b[0mread\u001b[0m\u001b[1;33m(\u001b[0m\u001b[1;33m)\u001b[0m\u001b[1;33m\u001b[0m\u001b[0m\n",
      "\u001b[1;31mFileNotFoundError\u001b[0m: [Errno 2] No such file or directory: 'invoice_template.pdf'",
      "\nDuring handling of the above exception, another exception occurred:\n",
      "\u001b[1;31mPdfParseError\u001b[0m                             Traceback (most recent call last)",
      "\u001b[1;32m<ipython-input-31-f5580fb37039>\u001b[0m in \u001b[0;36m<module>\u001b[1;34m()\u001b[0m\n\u001b[0;32m     54\u001b[0m \u001b[1;33m\u001b[0m\u001b[0m\n\u001b[0;32m     55\u001b[0m \u001b[1;32mif\u001b[0m \u001b[0m__name__\u001b[0m \u001b[1;33m==\u001b[0m \u001b[1;34m'__main__'\u001b[0m\u001b[1;33m:\u001b[0m\u001b[1;33m\u001b[0m\u001b[0m\n\u001b[1;32m---> 56\u001b[1;33m     \u001b[0mwrite_fillable_pdf\u001b[0m\u001b[1;33m(\u001b[0m\u001b[0mINVOICE_TEMPLATE_PATH\u001b[0m\u001b[1;33m,\u001b[0m \u001b[0mINVOICE_OUTPUT_PATH\u001b[0m\u001b[1;33m,\u001b[0m \u001b[0mdata_dict\u001b[0m\u001b[1;33m)\u001b[0m\u001b[1;33m\u001b[0m\u001b[0m\n\u001b[0m",
      "\u001b[1;32m<ipython-input-31-f5580fb37039>\u001b[0m in \u001b[0;36mwrite_fillable_pdf\u001b[1;34m(input_pdf_path, output_pdf_path, data_dict)\u001b[0m\n\u001b[0;32m     19\u001b[0m \u001b[1;33m\u001b[0m\u001b[0m\n\u001b[0;32m     20\u001b[0m \u001b[1;32mdef\u001b[0m \u001b[0mwrite_fillable_pdf\u001b[0m\u001b[1;33m(\u001b[0m\u001b[0minput_pdf_path\u001b[0m\u001b[1;33m,\u001b[0m \u001b[0moutput_pdf_path\u001b[0m\u001b[1;33m,\u001b[0m \u001b[0mdata_dict\u001b[0m\u001b[1;33m)\u001b[0m\u001b[1;33m:\u001b[0m\u001b[1;33m\u001b[0m\u001b[0m\n\u001b[1;32m---> 21\u001b[1;33m     \u001b[0mtemplate_pdf\u001b[0m \u001b[1;33m=\u001b[0m \u001b[0mpdfrw\u001b[0m\u001b[1;33m.\u001b[0m\u001b[0mPdfReader\u001b[0m\u001b[1;33m(\u001b[0m\u001b[0minput_pdf_path\u001b[0m\u001b[1;33m)\u001b[0m\u001b[1;33m\u001b[0m\u001b[0m\n\u001b[0m\u001b[0;32m     22\u001b[0m     \u001b[0mannotations\u001b[0m \u001b[1;33m=\u001b[0m \u001b[0mtemplate_pdf\u001b[0m\u001b[1;33m.\u001b[0m\u001b[0mpages\u001b[0m\u001b[1;33m[\u001b[0m\u001b[1;36m0\u001b[0m\u001b[1;33m]\u001b[0m\u001b[1;33m[\u001b[0m\u001b[0mANNOT_KEY\u001b[0m\u001b[1;33m]\u001b[0m\u001b[1;33m\u001b[0m\u001b[0m\n\u001b[0;32m     23\u001b[0m     \u001b[1;32mfor\u001b[0m \u001b[0mannotation\u001b[0m \u001b[1;32min\u001b[0m \u001b[0mannotations\u001b[0m\u001b[1;33m:\u001b[0m\u001b[1;33m\u001b[0m\u001b[0m\n",
      "\u001b[1;32mc:\\users\\tmrnew\\appdata\\local\\programs\\python\\python36-32\\lib\\site-packages\\pdfrw\\pdfreader.py\u001b[0m in \u001b[0;36m__init__\u001b[1;34m(self, fname, fdata, decompress, decrypt, password, disable_gc, verbose)\u001b[0m\n\u001b[0;32m    571\u001b[0m                     \u001b[1;32mexcept\u001b[0m \u001b[0mIOError\u001b[0m\u001b[1;33m:\u001b[0m\u001b[1;33m\u001b[0m\u001b[0m\n\u001b[0;32m    572\u001b[0m                         raise PdfParseError('Could not read PDF file %s' %\n\u001b[1;32m--> 573\u001b[1;33m                                             fname)\n\u001b[0m\u001b[0;32m    574\u001b[0m \u001b[1;33m\u001b[0m\u001b[0m\n\u001b[0;32m    575\u001b[0m             \u001b[1;32massert\u001b[0m \u001b[0mfdata\u001b[0m \u001b[1;32mis\u001b[0m \u001b[1;32mnot\u001b[0m \u001b[1;32mNone\u001b[0m\u001b[1;33m\u001b[0m\u001b[0m\n",
      "\u001b[1;31mPdfParseError\u001b[0m: Could not read PDF file invoice_template.pdf"
     ]
    }
   ],
   "source": [
    "#not working yet, need to specify template file \n",
    "#and map the pdf fillable fields with correct dataframe fields\n",
    "\n",
    "import os\n",
    "import pdfrw\n",
    "\n",
    "\n",
    "INVOICE_TEMPLATE_PATH = 'invoice_template.pdf'\n",
    "INVOICE_OUTPUT_PATH = 'invoice.pdf'\n",
    "\n",
    "\n",
    "ANNOT_KEY = '/Annots'\n",
    "ANNOT_FIELD_KEY = '/T'\n",
    "ANNOT_VAL_KEY = '/V'\n",
    "ANNOT_RECT_KEY = '/Rect'\n",
    "SUBTYPE_KEY = '/Subtype'\n",
    "WIDGET_SUBTYPE_KEY = '/Widget'\n",
    "\n",
    "\n",
    "def write_fillable_pdf(input_pdf_path, output_pdf_path, data_dict):\n",
    "    template_pdf = pdfrw.PdfReader(input_pdf_path)\n",
    "    annotations = template_pdf.pages[0][ANNOT_KEY]\n",
    "    for annotation in annotations:\n",
    "        if annotation[SUBTYPE_KEY] == WIDGET_SUBTYPE_KEY:\n",
    "            if annotation[ANNOT_FIELD_KEY]:\n",
    "                key = annotation[ANNOT_FIELD_KEY][1:-1]\n",
    "                if key in data_dict.keys():\n",
    "                    annotation.update(\n",
    "                        pdfrw.PdfDict(V='{}'.format(data_dict[key]))\n",
    "                    )\n",
    "    pdfrw.PdfWriter().write(output_pdf_path, template_pdf)\n",
    "\n",
    "\n",
    "data_dict = {\n",
    "   'business_name_1': 'Bostata',\n",
    "   'customer_name': 'company.io',\n",
    "   'customer_email': 'joe@company.io',\n",
    "   'invoice_number': '102394',\n",
    "   'send_date': '2018-02-13',\n",
    "   'due_date': '2018-03-13',\n",
    "   'note_contents': 'Thank you for your business, Joe',\n",
    "   'item_1': 'Data consulting services',\n",
    "   'item_1_quantity': '10 hours',\n",
    "   'item_1_price': '$200/hr',\n",
    "   'item_1_amount': '$2000',\n",
    "   'subtotal': '$2000',\n",
    "   'tax': '0',\n",
    "   'discounts': '0',\n",
    "   'total': '$2000',\n",
    "   'business_name_2': 'Bostata LLC',\n",
    "   'business_email_address': 'hi@bostata.com',\n",
    "   'business_phone_number': '(617) 930-4294'\n",
    "}\n",
    "\n",
    "if __name__ == '__main__':\n",
    "    write_fillable_pdf(INVOICE_TEMPLATE_PATH, INVOICE_OUTPUT_PATH, data_dict)"
   ]
  },
  {
   "cell_type": "code",
   "execution_count": null,
   "metadata": {},
   "outputs": [],
   "source": []
  }
 ],
 "metadata": {
  "kernelspec": {
   "display_name": "Python 3",
   "language": "python",
   "name": "python3"
  },
  "language_info": {
   "codemirror_mode": {
    "name": "ipython",
    "version": 3
   },
   "file_extension": ".py",
   "mimetype": "text/x-python",
   "name": "python",
   "nbconvert_exporter": "python",
   "pygments_lexer": "ipython3",
   "version": "3.6.3"
  }
 },
 "nbformat": 4,
 "nbformat_minor": 2
}
